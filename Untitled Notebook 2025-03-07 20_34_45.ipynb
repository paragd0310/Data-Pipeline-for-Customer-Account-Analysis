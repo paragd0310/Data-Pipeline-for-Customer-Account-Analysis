{
 "cells": [
  {
   "cell_type": "code",
   "execution_count": 0,
   "metadata": {
    "application/vnd.databricks.v1+cell": {
     "cellMetadata": {
      "byteLimit": 2048000,
      "rowLimit": 10000
     },
     "inputWidgets": {},
     "nuid": "65243786-cd17-40f8-9b2a-8de2cb60102f",
     "showTitle": false,
     "tableResultSettingsMap": {},
     "title": ""
    }
   },
   "outputs": [
    {
     "output_type": "stream",
     "name": "stdout",
     "output_type": "stream",
     "text": [
      "\nProcessing accounts...\nroot\n |-- account_id: string (nullable = false)\n |-- customer_id: string (nullable = false)\n |-- account_type: string (nullable = false)\n |-- balance: double (nullable = false)\n\n+----------+-----------+------------+-------+\n|account_id|customer_id|account_type|balance|\n+----------+-----------+------------+-------+\n|         3|         78|     Savings| 1500.0|\n|         2|         12|    Checking|2500.75|\n|         5|         56|     Savings|  500.0|\n|         6|         23|    Checking| 1200.5|\n|         4|         34|    Checking|3000.25|\n+----------+-----------+------------+-------+\nonly showing top 5 rows\n\naccounts successfully processed and saved to Silver layer!\n\nProcessing customers...\nroot\n |-- customer_id: string (nullable = false)\n |-- name: string (nullable = false)\n |-- age: integer (nullable = false)\n |-- city: string (nullable = false)\n\n+-----------+-------+---+--------------+\n|customer_id|   name|age|          city|\n+-----------+-------+---+--------------+\n|          3|Michael|  0|    789 Oak Dr|\n|          6|   Emma|  0|  505 Cedar St|\n|          4|  Emily|  0|   101 Pine Rd|\n|          5|  David|  0|202 Birch Blvd|\n|          2|   Jane|  0| 456 Maple Ave|\n+-----------+-------+---+--------------+\nonly showing top 5 rows\n\ncustomers successfully processed and saved to Silver layer!\n\nProcessing loan_payments...\nroot\n |-- payment_id: string (nullable = false)\n |-- loan_id: string (nullable = false)\n |-- amount: double (nullable = false)\n |-- payment_date: string (nullable = false)\n\n+----------+-------+------+------------+\n|payment_id|loan_id|amount|payment_date|\n+----------+-------+------+------------+\n|         4|     89|   0.0|      250.00|\n|         5|     12|   0.0|      300.00|\n|         3|     67|   0.0|      200.00|\n|         1|     45|   0.0|      100.00|\n|         2|     23|   0.0|      150.00|\n+----------+-------+------+------------+\nonly showing top 5 rows\n\nloan_payments successfully processed and saved to Silver layer!\n\nProcessing loans...\nroot\n |-- loan_id: string (nullable = false)\n |-- customer_id: string (nullable = false)\n |-- loan_type: string (nullable = false)\n |-- loan_amount: double (nullable = false)\n\n+-------+-----------+---------+-----------+\n|loan_id|customer_id|loan_type|loan_amount|\n+-------+-----------+---------+-----------+\n|      1|         45| 10000.50|        5.5|\n|      3|         78| 15000.00|        6.0|\n|      5|         56| 25000.00|        5.0|\n|      6|         23| 17500.50|        4.0|\n|      2|         12| 20000.75|        4.5|\n+-------+-----------+---------+-----------+\nonly showing top 5 rows\n\nloans successfully processed and saved to Silver layer!\n\nProcessing transactions...\nroot\n |-- transaction_id: string (nullable = false)\n |-- account_id: string (nullable = false)\n |-- amount: double (nullable = false)\n |-- transaction_date: string (nullable = false)\n\n+--------------+----------+------+----------------+\n|transaction_id|account_id|amount|transaction_date|\n+--------------+----------+------+----------------+\n|             1|        45|   0.0|          100.50|\n|             4|        34|   0.0|          300.25|\n|             3|        78|   0.0|          150.00|\n|             2|        12|   0.0|          200.75|\n|             5|        56|   0.0|          250.00|\n+--------------+----------+------+----------------+\nonly showing top 5 rows\n\ntransactions successfully processed and saved to Silver layer!\n\n All datasets processed, cleaned, and saved to Silver Layer!\n"
     ]
    }
   ],
   "source": [
    "from pyspark.sql.functions import col\n",
    "from pyspark.sql.types import StructType, StructField, StringType, IntegerType, DoubleType\n",
    "\n",
    "# List of all datasets\n",
    "datasets = [\"accounts\", \"customers\", \"loan_payments\", \"loans\", \"transactions\"]\n",
    "\n",
    "# Define schema for each dataset\n",
    "schemas = {\n",
    "    \"accounts\": StructType([\n",
    "        StructField(\"account_id\", StringType(), True),\n",
    "        StructField(\"customer_id\", StringType(), True),\n",
    "        StructField(\"account_type\", StringType(), True),\n",
    "        StructField(\"balance\", DoubleType(), True)\n",
    "    ]),\n",
    "    \"customers\": StructType([\n",
    "        StructField(\"customer_id\", StringType(), True),\n",
    "        StructField(\"name\", StringType(), True),\n",
    "        StructField(\"age\", IntegerType(), True),\n",
    "        StructField(\"city\", StringType(), True)\n",
    "    ]),\n",
    "    \"loan_payments\": StructType([\n",
    "        StructField(\"payment_id\", StringType(), True),\n",
    "        StructField(\"loan_id\", StringType(), True),\n",
    "        StructField(\"amount\", DoubleType(), True),\n",
    "        StructField(\"payment_date\", StringType(), True)\n",
    "    ]),\n",
    "    \"loans\": StructType([\n",
    "        StructField(\"loan_id\", StringType(), True),\n",
    "        StructField(\"customer_id\", StringType(), True),\n",
    "        StructField(\"loan_type\", StringType(), True),\n",
    "        StructField(\"loan_amount\", DoubleType(), True)\n",
    "    ]),\n",
    "    \"transactions\": StructType([\n",
    "        StructField(\"transaction_id\", StringType(), True),\n",
    "        StructField(\"account_id\", StringType(), True),\n",
    "        StructField(\"amount\", DoubleType(), True),\n",
    "        StructField(\"transaction_date\", StringType(), True)\n",
    "    ])\n",
    "}\n",
    "\n",
    "# Dictionary to store processed DataFrames\n",
    "df_dict = {}\n",
    "\n",
    "# Process each dataset\n",
    "for dataset in datasets:\n",
    "    print(f\"\\nProcessing {dataset}...\")\n",
    "\n",
    "    # Read data from Bronze layer with schema\n",
    "    df = spark.read.option(\"header\", \"true\").schema(schemas[dataset]).csv(f\"/mnt/bronze/{dataset}.csv\")\n",
    "\n",
    "    # Remove duplicate rows\n",
    "    df_clean = df.dropDuplicates()\n",
    "\n",
    "    # Handle missing values dynamically based on schema\n",
    "    fill_values = {}\n",
    "    for field in schemas[dataset].fields:\n",
    "        if isinstance(field.dataType, DoubleType):  # If numerical, fill with 0\n",
    "            fill_values[field.name] = 0.0\n",
    "        elif isinstance(field.dataType, IntegerType):  # If integer, fill with 0\n",
    "            fill_values[field.name] = 0\n",
    "        elif isinstance(field.dataType, StringType):  # If string, fill with 'Unknown'\n",
    "            fill_values[field.name] = \"Unknown\"\n",
    "\n",
    "    df_clean = df_clean.fillna(fill_values)\n",
    "\n",
    "    # Store cleaned DataFrame\n",
    "    df_dict[dataset] = df_clean\n",
    "\n",
    "    # Show schema & sample data\n",
    "    df_clean.printSchema()\n",
    "    df_clean.show(5)\n",
    "\n",
    "    # Save to Silver Layer in Delta format\n",
    "    df_clean.write.format(\"delta\").mode(\"overwrite\").save(f\"/mnt/silver/{dataset}\")\n",
    "\n",
    "    print(f\"{dataset} successfully processed and saved to Silver layer!\")\n",
    "\n",
    "print(\"\\n All datasets processed, cleaned, and saved to Silver Layer!\")\n"
   ]
  },
  {
   "cell_type": "code",
   "execution_count": 0,
   "metadata": {
    "application/vnd.databricks.v1+cell": {
     "cellMetadata": {
      "byteLimit": 2048000,
      "rowLimit": 10000
     },
     "inputWidgets": {},
     "nuid": "42860f97-9e5d-40a0-9788-33ca0b9a394b",
     "showTitle": false,
     "tableResultSettingsMap": {},
     "title": ""
    }
   },
   "outputs": [
    {
     "output_type": "display_data",
     "data": {
      "text/html": [
       "<style scoped>\n",
       "  .table-result-container {\n",
       "    max-height: 300px;\n",
       "    overflow: auto;\n",
       "  }\n",
       "  table, th, td {\n",
       "    border: 1px solid black;\n",
       "    border-collapse: collapse;\n",
       "  }\n",
       "  th, td {\n",
       "    padding: 5px;\n",
       "  }\n",
       "  th {\n",
       "    text-align: left;\n",
       "  }\n",
       "</style><div class='table-result-container'><table class='table-result'><thead style='background-color: white'><tr><th>path</th><th>name</th><th>size</th><th>modificationTime</th></tr></thead><tbody><tr><td>dbfs:/mnt/silver/accounts/</td><td>accounts/</td><td>0</td><td>1741398028000</td></tr><tr><td>dbfs:/mnt/silver/customers/</td><td>customers/</td><td>0</td><td>1741398051000</td></tr><tr><td>dbfs:/mnt/silver/loan_payments/</td><td>loan_payments/</td><td>0</td><td>1741398056000</td></tr><tr><td>dbfs:/mnt/silver/loans/</td><td>loans/</td><td>0</td><td>1741398059000</td></tr><tr><td>dbfs:/mnt/silver/transactions/</td><td>transactions/</td><td>0</td><td>1741398063000</td></tr></tbody></table></div>"
      ]
     },
     "metadata": {
      "application/vnd.databricks.v1+output": {
       "addedWidgets": {},
       "aggData": [],
       "aggError": "",
       "aggOverflow": false,
       "aggSchema": [],
       "aggSeriesLimitReached": false,
       "aggType": "",
       "arguments": {},
       "columnCustomDisplayInfos": {},
       "data": [
        [
         "dbfs:/mnt/silver/accounts/",
         "accounts/",
         0,
         1741398028000
        ],
        [
         "dbfs:/mnt/silver/customers/",
         "customers/",
         0,
         1741398051000
        ],
        [
         "dbfs:/mnt/silver/loan_payments/",
         "loan_payments/",
         0,
         1741398056000
        ],
        [
         "dbfs:/mnt/silver/loans/",
         "loans/",
         0,
         1741398059000
        ],
        [
         "dbfs:/mnt/silver/transactions/",
         "transactions/",
         0,
         1741398063000
        ]
       ],
       "datasetInfos": [],
       "dbfsResultPath": null,
       "isJsonSchema": true,
       "metadata": {},
       "overflow": false,
       "plotOptions": {
        "customPlotOptions": {},
        "displayType": "table",
        "pivotAggregation": null,
        "pivotColumns": null,
        "xColumns": null,
        "yColumns": null
       },
       "removedWidgets": [],
       "schema": [
        {
         "metadata": "{}",
         "name": "path",
         "type": "\"string\""
        },
        {
         "metadata": "{}",
         "name": "name",
         "type": "\"string\""
        },
        {
         "metadata": "{}",
         "name": "size",
         "type": "\"long\""
        },
        {
         "metadata": "{}",
         "name": "modificationTime",
         "type": "\"long\""
        }
       ],
       "type": "table"
      }
     },
     "output_type": "display_data"
    }
   ],
   "source": [
    "display(dbutils.fs.ls(\"/mnt/silver/\"))\n"
   ]
  },
  {
   "cell_type": "code",
   "execution_count": 0,
   "metadata": {
    "application/vnd.databricks.v1+cell": {
     "cellMetadata": {
      "byteLimit": 2048000,
      "rowLimit": 10000
     },
     "inputWidgets": {},
     "nuid": "49c91039-7acf-4e86-af52-11f5640b801d",
     "showTitle": false,
     "tableResultSettingsMap": {},
     "title": ""
    }
   },
   "outputs": [
    {
     "output_type": "stream",
     "name": "stdout",
     "output_type": "stream",
     "text": [
      "\nAll transformations completed! Data saved to Gold Layer!\n"
     ]
    }
   ],
   "source": [
    "from pyspark.sql.functions import sum, count, avg\n",
    "\n",
    "# Load cleaned Silver Layer datasets\n",
    "df_accounts = spark.read.format(\"delta\").load(\"/mnt/silver/accounts\")\n",
    "df_customers = spark.read.format(\"delta\").load(\"/mnt/silver/customers\")\n",
    "df_loans = spark.read.format(\"delta\").load(\"/mnt/silver/loans\")\n",
    "df_transactions = spark.read.format(\"delta\").load(\"/mnt/silver/transactions\")\n",
    "\n",
    "# 🟢 1. Aggregate Balance per Customer\n",
    "df_customer_balance = df_accounts.groupBy(\"customer_id\").agg(\n",
    "    sum(\"balance\").alias(\"total_balance\")\n",
    ")\n",
    "df_customer_balance.write.format(\"delta\").mode(\"overwrite\").save(\"/mnt/gold/customer_balance\")\n",
    "\n",
    "# 🟢 2. Total Loan Amount per Customer\n",
    "df_customer_loans = df_loans.groupBy(\"customer_id\").agg(\n",
    "    sum(\"loan_amount\").alias(\"total_loan_amount\")\n",
    ")\n",
    "df_customer_loans.write.format(\"delta\").mode(\"overwrite\").save(\"/mnt/gold/customer_loans\")\n",
    "\n",
    "# 🟢 3. Total Transactions per Account\n",
    "df_account_transactions = df_transactions.groupBy(\"account_id\").agg(\n",
    "    count(\"transaction_id\").alias(\"total_transactions\"),\n",
    "    sum(\"amount\").alias(\"total_transaction_amount\")\n",
    ")\n",
    "df_account_transactions.write.format(\"delta\").mode(\"overwrite\").save(\"/mnt/gold/account_transactions\")\n",
    "\n",
    "# Print Success Message\n",
    "print(\"\\nAll transformations completed! Data saved to Gold Layer!\")\n"
   ]
  },
  {
   "cell_type": "code",
   "execution_count": 0,
   "metadata": {
    "application/vnd.databricks.v1+cell": {
     "cellMetadata": {
      "byteLimit": 2048000,
      "rowLimit": 10000
     },
     "inputWidgets": {},
     "nuid": "98121ce9-b7f1-410d-996d-99f40d35fef9",
     "showTitle": false,
     "tableResultSettingsMap": {},
     "title": ""
    }
   },
   "outputs": [
    {
     "output_type": "display_data",
     "data": {
      "text/html": [
       "<style scoped>\n",
       "  .table-result-container {\n",
       "    max-height: 300px;\n",
       "    overflow: auto;\n",
       "  }\n",
       "  table, th, td {\n",
       "    border: 1px solid black;\n",
       "    border-collapse: collapse;\n",
       "  }\n",
       "  th, td {\n",
       "    padding: 5px;\n",
       "  }\n",
       "  th {\n",
       "    text-align: left;\n",
       "  }\n",
       "</style><div class='table-result-container'><table class='table-result'><thead style='background-color: white'><tr><th>path</th><th>name</th><th>size</th><th>modificationTime</th></tr></thead><tbody><tr><td>dbfs:/mnt/gold/account_transactions/</td><td>account_transactions/</td><td>0</td><td>1741398163000</td></tr><tr><td>dbfs:/mnt/gold/customer_balance/</td><td>customer_balance/</td><td>0</td><td>1741398153000</td></tr><tr><td>dbfs:/mnt/gold/customer_loans/</td><td>customer_loans/</td><td>0</td><td>1741398160000</td></tr></tbody></table></div>"
      ]
     },
     "metadata": {
      "application/vnd.databricks.v1+output": {
       "addedWidgets": {},
       "aggData": [],
       "aggError": "",
       "aggOverflow": false,
       "aggSchema": [],
       "aggSeriesLimitReached": false,
       "aggType": "",
       "arguments": {},
       "columnCustomDisplayInfos": {},
       "data": [
        [
         "dbfs:/mnt/gold/account_transactions/",
         "account_transactions/",
         0,
         1741398163000
        ],
        [
         "dbfs:/mnt/gold/customer_balance/",
         "customer_balance/",
         0,
         1741398153000
        ],
        [
         "dbfs:/mnt/gold/customer_loans/",
         "customer_loans/",
         0,
         1741398160000
        ]
       ],
       "datasetInfos": [],
       "dbfsResultPath": null,
       "isJsonSchema": true,
       "metadata": {},
       "overflow": false,
       "plotOptions": {
        "customPlotOptions": {},
        "displayType": "table",
        "pivotAggregation": null,
        "pivotColumns": null,
        "xColumns": null,
        "yColumns": null
       },
       "removedWidgets": [],
       "schema": [
        {
         "metadata": "{}",
         "name": "path",
         "type": "\"string\""
        },
        {
         "metadata": "{}",
         "name": "name",
         "type": "\"string\""
        },
        {
         "metadata": "{}",
         "name": "size",
         "type": "\"long\""
        },
        {
         "metadata": "{}",
         "name": "modificationTime",
         "type": "\"long\""
        }
       ],
       "type": "table"
      }
     },
     "output_type": "display_data"
    }
   ],
   "source": [
    "display(dbutils.fs.ls(\"/mnt/gold/\"))\n"
   ]
  },
  {
   "cell_type": "code",
   "execution_count": 0,
   "metadata": {
    "application/vnd.databricks.v1+cell": {
     "cellMetadata": {
      "byteLimit": 2048000,
      "rowLimit": 10000
     },
     "inputWidgets": {},
     "nuid": "6f7fc708-39bd-4c40-848c-99044e1f05dd",
     "showTitle": false,
     "tableResultSettingsMap": {},
     "title": ""
    }
   },
   "outputs": [
    {
     "output_type": "stream",
     "name": "stdout",
     "output_type": "stream",
     "text": [
      "+-----------+-------------+\n|customer_id|total_balance|\n+-----------+-------------+\n|         51|       250.25|\n|          7|       2900.0|\n|         15|       3900.5|\n|         54|       850.25|\n|         11|       2600.0|\n+-----------+-------------+\nonly showing top 5 rows\n\n"
     ]
    }
   ],
   "source": [
    "df_gold = spark.read.format(\"delta\").load(\"/mnt/gold/customer_balance\")\n",
    "df_gold.show(5)\n"
   ]
  },
  {
   "cell_type": "code",
   "execution_count": 0,
   "metadata": {
    "application/vnd.databricks.v1+cell": {
     "cellMetadata": {
      "byteLimit": 2048000,
      "rowLimit": 10000
     },
     "inputWidgets": {},
     "nuid": "bd07cee1-1461-4b8c-a673-f5031acd2150",
     "showTitle": false,
     "tableResultSettingsMap": {},
     "title": ""
    }
   },
   "outputs": [
    {
     "output_type": "display_data",
     "data": {
      "text/html": [
       "<style scoped>\n",
       "  .table-result-container {\n",
       "    max-height: 300px;\n",
       "    overflow: auto;\n",
       "  }\n",
       "  table, th, td {\n",
       "    border: 1px solid black;\n",
       "    border-collapse: collapse;\n",
       "  }\n",
       "  th, td {\n",
       "    padding: 5px;\n",
       "  }\n",
       "  th {\n",
       "    text-align: left;\n",
       "  }\n",
       "</style><div class='table-result-container'><table class='table-result'><thead style='background-color: white'><tr><th>path</th><th>name</th><th>size</th><th>modificationTime</th></tr></thead><tbody><tr><td>dbfs:/mnt/gold/customer_balance/_delta_log/</td><td>_delta_log/</td><td>0</td><td>1741398153000</td></tr><tr><td>dbfs:/mnt/gold/customer_balance/part-00000-0a7277cf-69c0-424f-b856-601ae35c4d33-c000.snappy.parquet</td><td>part-00000-0a7277cf-69c0-424f-b856-601ae35c4d33-c000.snappy.parquet</td><td>1807</td><td>1741398157000</td></tr></tbody></table></div>"
      ]
     },
     "metadata": {
      "application/vnd.databricks.v1+output": {
       "addedWidgets": {},
       "aggData": [],
       "aggError": "",
       "aggOverflow": false,
       "aggSchema": [],
       "aggSeriesLimitReached": false,
       "aggType": "",
       "arguments": {},
       "columnCustomDisplayInfos": {},
       "data": [
        [
         "dbfs:/mnt/gold/customer_balance/_delta_log/",
         "_delta_log/",
         0,
         1741398153000
        ],
        [
         "dbfs:/mnt/gold/customer_balance/part-00000-0a7277cf-69c0-424f-b856-601ae35c4d33-c000.snappy.parquet",
         "part-00000-0a7277cf-69c0-424f-b856-601ae35c4d33-c000.snappy.parquet",
         1807,
         1741398157000
        ]
       ],
       "datasetInfos": [],
       "dbfsResultPath": null,
       "isJsonSchema": true,
       "metadata": {},
       "overflow": false,
       "plotOptions": {
        "customPlotOptions": {},
        "displayType": "table",
        "pivotAggregation": null,
        "pivotColumns": null,
        "xColumns": null,
        "yColumns": null
       },
       "removedWidgets": [],
       "schema": [
        {
         "metadata": "{}",
         "name": "path",
         "type": "\"string\""
        },
        {
         "metadata": "{}",
         "name": "name",
         "type": "\"string\""
        },
        {
         "metadata": "{}",
         "name": "size",
         "type": "\"long\""
        },
        {
         "metadata": "{}",
         "name": "modificationTime",
         "type": "\"long\""
        }
       ],
       "type": "table"
      }
     },
     "output_type": "display_data"
    }
   ],
   "source": [
    "display(dbutils.fs.ls(\"mnt/gold/customer_balance/\"))\n"
   ]
  },
  {
   "cell_type": "code",
   "execution_count": 0,
   "metadata": {
    "application/vnd.databricks.v1+cell": {
     "cellMetadata": {
      "byteLimit": 2048000,
      "rowLimit": 10000
     },
     "inputWidgets": {},
     "nuid": "07db47bb-38a7-45cc-969b-7fc4e9413409",
     "showTitle": false,
     "tableResultSettingsMap": {},
     "title": ""
    }
   },
   "outputs": [
    {
     "output_type": "display_data",
     "data": {
      "text/html": [
       "<style scoped>\n",
       "  .table-result-container {\n",
       "    max-height: 300px;\n",
       "    overflow: auto;\n",
       "  }\n",
       "  table, th, td {\n",
       "    border: 1px solid black;\n",
       "    border-collapse: collapse;\n",
       "  }\n",
       "  th, td {\n",
       "    padding: 5px;\n",
       "  }\n",
       "  th {\n",
       "    text-align: left;\n",
       "  }\n",
       "</style><div class='table-result-container'><table class='table-result'><thead style='background-color: white'><tr><th>path</th><th>name</th><th>size</th><th>modificationTime</th></tr></thead><tbody><tr><td>dbfs:/mnt/gold/customer_balance/_delta_log/</td><td>_delta_log/</td><td>0</td><td>1741398153000</td></tr><tr><td>dbfs:/mnt/gold/customer_balance/part-00000-0a7277cf-69c0-424f-b856-601ae35c4d33-c000.snappy.parquet</td><td>part-00000-0a7277cf-69c0-424f-b856-601ae35c4d33-c000.snappy.parquet</td><td>1807</td><td>1741398157000</td></tr></tbody></table></div>"
      ]
     },
     "metadata": {
      "application/vnd.databricks.v1+output": {
       "addedWidgets": {},
       "aggData": [],
       "aggError": "",
       "aggOverflow": false,
       "aggSchema": [],
       "aggSeriesLimitReached": false,
       "aggType": "",
       "arguments": {},
       "columnCustomDisplayInfos": {},
       "data": [
        [
         "dbfs:/mnt/gold/customer_balance/_delta_log/",
         "_delta_log/",
         0,
         1741398153000
        ],
        [
         "dbfs:/mnt/gold/customer_balance/part-00000-0a7277cf-69c0-424f-b856-601ae35c4d33-c000.snappy.parquet",
         "part-00000-0a7277cf-69c0-424f-b856-601ae35c4d33-c000.snappy.parquet",
         1807,
         1741398157000
        ]
       ],
       "datasetInfos": [],
       "dbfsResultPath": null,
       "isJsonSchema": true,
       "metadata": {},
       "overflow": false,
       "plotOptions": {
        "customPlotOptions": {},
        "displayType": "table",
        "pivotAggregation": null,
        "pivotColumns": null,
        "xColumns": null,
        "yColumns": null
       },
       "removedWidgets": [],
       "schema": [
        {
         "metadata": "{}",
         "name": "path",
         "type": "\"string\""
        },
        {
         "metadata": "{}",
         "name": "name",
         "type": "\"string\""
        },
        {
         "metadata": "{}",
         "name": "size",
         "type": "\"long\""
        },
        {
         "metadata": "{}",
         "name": "modificationTime",
         "type": "\"long\""
        }
       ],
       "type": "table"
      }
     },
     "output_type": "display_data"
    }
   ],
   "source": [
    "display(dbutils.fs.ls(\"mnt/gold/customer_balance/\"))\n"
   ]
  },
  {
   "cell_type": "code",
   "execution_count": 0,
   "metadata": {
    "application/vnd.databricks.v1+cell": {
     "cellMetadata": {
      "byteLimit": 2048000,
      "rowLimit": 10000
     },
     "inputWidgets": {},
     "nuid": "eee38958-c8b3-4d8a-9121-da83d1f6dd24",
     "showTitle": false,
     "tableResultSettingsMap": {},
     "title": ""
    }
   },
   "outputs": [
    {
     "output_type": "display_data",
     "data": {
      "text/html": [
       "<style scoped>\n",
       "  .table-result-container {\n",
       "    max-height: 300px;\n",
       "    overflow: auto;\n",
       "  }\n",
       "  table, th, td {\n",
       "    border: 1px solid black;\n",
       "    border-collapse: collapse;\n",
       "  }\n",
       "  th, td {\n",
       "    padding: 5px;\n",
       "  }\n",
       "  th {\n",
       "    text-align: left;\n",
       "  }\n",
       "</style><div class='table-result-container'><table class='table-result'><thead style='background-color: white'><tr><th>path</th><th>name</th><th>size</th><th>modificationTime</th></tr></thead><tbody><tr><td>dbfs:/mnt/silver/accounts/</td><td>accounts/</td><td>0</td><td>1741398028000</td></tr><tr><td>dbfs:/mnt/silver/customers/</td><td>customers/</td><td>0</td><td>1741398051000</td></tr><tr><td>dbfs:/mnt/silver/loan_payments/</td><td>loan_payments/</td><td>0</td><td>1741398056000</td></tr><tr><td>dbfs:/mnt/silver/loans/</td><td>loans/</td><td>0</td><td>1741398059000</td></tr><tr><td>dbfs:/mnt/silver/transactions/</td><td>transactions/</td><td>0</td><td>1741398063000</td></tr></tbody></table></div>"
      ]
     },
     "metadata": {
      "application/vnd.databricks.v1+output": {
       "addedWidgets": {},
       "aggData": [],
       "aggError": "",
       "aggOverflow": false,
       "aggSchema": [],
       "aggSeriesLimitReached": false,
       "aggType": "",
       "arguments": {},
       "columnCustomDisplayInfos": {},
       "data": [
        [
         "dbfs:/mnt/silver/accounts/",
         "accounts/",
         0,
         1741398028000
        ],
        [
         "dbfs:/mnt/silver/customers/",
         "customers/",
         0,
         1741398051000
        ],
        [
         "dbfs:/mnt/silver/loan_payments/",
         "loan_payments/",
         0,
         1741398056000
        ],
        [
         "dbfs:/mnt/silver/loans/",
         "loans/",
         0,
         1741398059000
        ],
        [
         "dbfs:/mnt/silver/transactions/",
         "transactions/",
         0,
         1741398063000
        ]
       ],
       "datasetInfos": [],
       "dbfsResultPath": null,
       "isJsonSchema": true,
       "metadata": {},
       "overflow": false,
       "plotOptions": {
        "customPlotOptions": {},
        "displayType": "table",
        "pivotAggregation": null,
        "pivotColumns": null,
        "xColumns": null,
        "yColumns": null
       },
       "removedWidgets": [],
       "schema": [
        {
         "metadata": "{}",
         "name": "path",
         "type": "\"string\""
        },
        {
         "metadata": "{}",
         "name": "name",
         "type": "\"string\""
        },
        {
         "metadata": "{}",
         "name": "size",
         "type": "\"long\""
        },
        {
         "metadata": "{}",
         "name": "modificationTime",
         "type": "\"long\""
        }
       ],
       "type": "table"
      }
     },
     "output_type": "display_data"
    },
    {
     "output_type": "display_data",
     "data": {
      "text/html": [
       "<style scoped>\n",
       "  .table-result-container {\n",
       "    max-height: 300px;\n",
       "    overflow: auto;\n",
       "  }\n",
       "  table, th, td {\n",
       "    border: 1px solid black;\n",
       "    border-collapse: collapse;\n",
       "  }\n",
       "  th, td {\n",
       "    padding: 5px;\n",
       "  }\n",
       "  th {\n",
       "    text-align: left;\n",
       "  }\n",
       "</style><div class='table-result-container'><table class='table-result'><thead style='background-color: white'><tr><th>path</th><th>name</th><th>size</th><th>modificationTime</th></tr></thead><tbody><tr><td>dbfs:/mnt/gold/account_transactions/</td><td>account_transactions/</td><td>0</td><td>1741398163000</td></tr><tr><td>dbfs:/mnt/gold/customer_balance/</td><td>customer_balance/</td><td>0</td><td>1741398153000</td></tr><tr><td>dbfs:/mnt/gold/customer_loans/</td><td>customer_loans/</td><td>0</td><td>1741398160000</td></tr></tbody></table></div>"
      ]
     },
     "metadata": {
      "application/vnd.databricks.v1+output": {
       "addedWidgets": {},
       "aggData": [],
       "aggError": "",
       "aggOverflow": false,
       "aggSchema": [],
       "aggSeriesLimitReached": false,
       "aggType": "",
       "arguments": {},
       "columnCustomDisplayInfos": {},
       "data": [
        [
         "dbfs:/mnt/gold/account_transactions/",
         "account_transactions/",
         0,
         1741398163000
        ],
        [
         "dbfs:/mnt/gold/customer_balance/",
         "customer_balance/",
         0,
         1741398153000
        ],
        [
         "dbfs:/mnt/gold/customer_loans/",
         "customer_loans/",
         0,
         1741398160000
        ]
       ],
       "datasetInfos": [],
       "dbfsResultPath": null,
       "isJsonSchema": true,
       "metadata": {},
       "overflow": false,
       "plotOptions": {
        "customPlotOptions": {},
        "displayType": "table",
        "pivotAggregation": null,
        "pivotColumns": null,
        "xColumns": null,
        "yColumns": null
       },
       "removedWidgets": [],
       "schema": [
        {
         "metadata": "{}",
         "name": "path",
         "type": "\"string\""
        },
        {
         "metadata": "{}",
         "name": "name",
         "type": "\"string\""
        },
        {
         "metadata": "{}",
         "name": "size",
         "type": "\"long\""
        },
        {
         "metadata": "{}",
         "name": "modificationTime",
         "type": "\"long\""
        }
       ],
       "type": "table"
      }
     },
     "output_type": "display_data"
    }
   ],
   "source": [
    "display(dbutils.fs.ls(\"mnt/silver/\"))  # Check if Silver has files\n",
    "display(dbutils.fs.ls(\"mnt/gold/\"))    # Check if Gold has files\n"
   ]
  },
  {
   "cell_type": "code",
   "execution_count": 0,
   "metadata": {
    "application/vnd.databricks.v1+cell": {
     "cellMetadata": {
      "byteLimit": 2048000,
      "rowLimit": 10000
     },
     "inputWidgets": {},
     "nuid": "d2d57966-6732-4769-b1df-c600dee091b6",
     "showTitle": false,
     "tableResultSettingsMap": {},
     "title": ""
    }
   },
   "outputs": [
    {
     "output_type": "display_data",
     "data": {
      "text/html": [
       "<style scoped>\n",
       "  .table-result-container {\n",
       "    max-height: 300px;\n",
       "    overflow: auto;\n",
       "  }\n",
       "  table, th, td {\n",
       "    border: 1px solid black;\n",
       "    border-collapse: collapse;\n",
       "  }\n",
       "  th, td {\n",
       "    padding: 5px;\n",
       "  }\n",
       "  th {\n",
       "    text-align: left;\n",
       "  }\n",
       "</style><div class='table-result-container'><table class='table-result'><thead style='background-color: white'><tr><th>path</th><th>name</th><th>size</th><th>modificationTime</th></tr></thead><tbody><tr><td>dbfs:/mnt/gold/customer_balance/_delta_log/00000000000000000000.crc</td><td>00000000000000000000.crc</td><td>2791</td><td>1741398159000</td></tr><tr><td>dbfs:/mnt/gold/customer_balance/_delta_log/00000000000000000000.json</td><td>00000000000000000000.json</td><td>1712</td><td>1741398158000</td></tr><tr><td>dbfs:/mnt/gold/customer_balance/_delta_log/__tmp_path_dir/</td><td>__tmp_path_dir/</td><td>0</td><td>1741398158000</td></tr><tr><td>dbfs:/mnt/gold/customer_balance/_delta_log/_commits/</td><td>_commits/</td><td>0</td><td>1741398153000</td></tr></tbody></table></div>"
      ]
     },
     "metadata": {
      "application/vnd.databricks.v1+output": {
       "addedWidgets": {},
       "aggData": [],
       "aggError": "",
       "aggOverflow": false,
       "aggSchema": [],
       "aggSeriesLimitReached": false,
       "aggType": "",
       "arguments": {},
       "columnCustomDisplayInfos": {},
       "data": [
        [
         "dbfs:/mnt/gold/customer_balance/_delta_log/00000000000000000000.crc",
         "00000000000000000000.crc",
         2791,
         1741398159000
        ],
        [
         "dbfs:/mnt/gold/customer_balance/_delta_log/00000000000000000000.json",
         "00000000000000000000.json",
         1712,
         1741398158000
        ],
        [
         "dbfs:/mnt/gold/customer_balance/_delta_log/__tmp_path_dir/",
         "__tmp_path_dir/",
         0,
         1741398158000
        ],
        [
         "dbfs:/mnt/gold/customer_balance/_delta_log/_commits/",
         "_commits/",
         0,
         1741398153000
        ]
       ],
       "datasetInfos": [],
       "dbfsResultPath": null,
       "isJsonSchema": true,
       "metadata": {},
       "overflow": false,
       "plotOptions": {
        "customPlotOptions": {},
        "displayType": "table",
        "pivotAggregation": null,
        "pivotColumns": null,
        "xColumns": null,
        "yColumns": null
       },
       "removedWidgets": [],
       "schema": [
        {
         "metadata": "{}",
         "name": "path",
         "type": "\"string\""
        },
        {
         "metadata": "{}",
         "name": "name",
         "type": "\"string\""
        },
        {
         "metadata": "{}",
         "name": "size",
         "type": "\"long\""
        },
        {
         "metadata": "{}",
         "name": "modificationTime",
         "type": "\"long\""
        }
       ],
       "type": "table"
      }
     },
     "output_type": "display_data"
    }
   ],
   "source": [
    "display(dbutils.fs.ls(\"mnt/gold/customer_balance/_delta_log/\"))\n"
   ]
  },
  {
   "cell_type": "code",
   "execution_count": 0,
   "metadata": {
    "application/vnd.databricks.v1+cell": {
     "cellMetadata": {
      "byteLimit": 2048000,
      "rowLimit": 10000
     },
     "inputWidgets": {},
     "nuid": "4f33df25-7609-4e6e-9d77-134be969da5a",
     "showTitle": false,
     "tableResultSettingsMap": {},
     "title": ""
    }
   },
   "outputs": [
    {
     "output_type": "display_data",
     "data": {
      "text/html": [
       "<style scoped>\n",
       "  .table-result-container {\n",
       "    max-height: 300px;\n",
       "    overflow: auto;\n",
       "  }\n",
       "  table, th, td {\n",
       "    border: 1px solid black;\n",
       "    border-collapse: collapse;\n",
       "  }\n",
       "  th, td {\n",
       "    padding: 5px;\n",
       "  }\n",
       "  th {\n",
       "    text-align: left;\n",
       "  }\n",
       "</style><div class='table-result-container'><table class='table-result'><thead style='background-color: white'><tr><th>path</th><th>name</th><th>size</th><th>modificationTime</th></tr></thead><tbody><tr><td>dbfs:/mnt/gold/customer_balance/_delta_log/</td><td>_delta_log/</td><td>0</td><td>1741398153000</td></tr><tr><td>dbfs:/mnt/gold/customer_balance/part-00000-0a7277cf-69c0-424f-b856-601ae35c4d33-c000.snappy.parquet</td><td>part-00000-0a7277cf-69c0-424f-b856-601ae35c4d33-c000.snappy.parquet</td><td>1807</td><td>1741398157000</td></tr></tbody></table></div>"
      ]
     },
     "metadata": {
      "application/vnd.databricks.v1+output": {
       "addedWidgets": {},
       "aggData": [],
       "aggError": "",
       "aggOverflow": false,
       "aggSchema": [],
       "aggSeriesLimitReached": false,
       "aggType": "",
       "arguments": {},
       "columnCustomDisplayInfos": {},
       "data": [
        [
         "dbfs:/mnt/gold/customer_balance/_delta_log/",
         "_delta_log/",
         0,
         1741398153000
        ],
        [
         "dbfs:/mnt/gold/customer_balance/part-00000-0a7277cf-69c0-424f-b856-601ae35c4d33-c000.snappy.parquet",
         "part-00000-0a7277cf-69c0-424f-b856-601ae35c4d33-c000.snappy.parquet",
         1807,
         1741398157000
        ]
       ],
       "datasetInfos": [],
       "dbfsResultPath": null,
       "isJsonSchema": true,
       "metadata": {},
       "overflow": false,
       "plotOptions": {
        "customPlotOptions": {},
        "displayType": "table",
        "pivotAggregation": null,
        "pivotColumns": null,
        "xColumns": null,
        "yColumns": null
       },
       "removedWidgets": [],
       "schema": [
        {
         "metadata": "{}",
         "name": "path",
         "type": "\"string\""
        },
        {
         "metadata": "{}",
         "name": "name",
         "type": "\"string\""
        },
        {
         "metadata": "{}",
         "name": "size",
         "type": "\"long\""
        },
        {
         "metadata": "{}",
         "name": "modificationTime",
         "type": "\"long\""
        }
       ],
       "type": "table"
      }
     },
     "output_type": "display_data"
    },
    {
     "output_type": "display_data",
     "data": {
      "text/html": [
       "<style scoped>\n",
       "  .table-result-container {\n",
       "    max-height: 300px;\n",
       "    overflow: auto;\n",
       "  }\n",
       "  table, th, td {\n",
       "    border: 1px solid black;\n",
       "    border-collapse: collapse;\n",
       "  }\n",
       "  th, td {\n",
       "    padding: 5px;\n",
       "  }\n",
       "  th {\n",
       "    text-align: left;\n",
       "  }\n",
       "</style><div class='table-result-container'><table class='table-result'><thead style='background-color: white'><tr><th>path</th><th>name</th><th>size</th><th>modificationTime</th></tr></thead><tbody><tr><td>dbfs:/mnt/silver/accounts/_delta_log/</td><td>_delta_log/</td><td>0</td><td>1741398028000</td></tr><tr><td>dbfs:/mnt/silver/accounts/part-00000-7ff8df6c-3f27-4ac9-88c0-42a01d030672-c000.snappy.parquet</td><td>part-00000-7ff8df6c-3f27-4ac9-88c0-42a01d030672-c000.snappy.parquet</td><td>2773</td><td>1741398036000</td></tr></tbody></table></div>"
      ]
     },
     "metadata": {
      "application/vnd.databricks.v1+output": {
       "addedWidgets": {},
       "aggData": [],
       "aggError": "",
       "aggOverflow": false,
       "aggSchema": [],
       "aggSeriesLimitReached": false,
       "aggType": "",
       "arguments": {},
       "columnCustomDisplayInfos": {},
       "data": [
        [
         "dbfs:/mnt/silver/accounts/_delta_log/",
         "_delta_log/",
         0,
         1741398028000
        ],
        [
         "dbfs:/mnt/silver/accounts/part-00000-7ff8df6c-3f27-4ac9-88c0-42a01d030672-c000.snappy.parquet",
         "part-00000-7ff8df6c-3f27-4ac9-88c0-42a01d030672-c000.snappy.parquet",
         2773,
         1741398036000
        ]
       ],
       "datasetInfos": [],
       "dbfsResultPath": null,
       "isJsonSchema": true,
       "metadata": {},
       "overflow": false,
       "plotOptions": {
        "customPlotOptions": {},
        "displayType": "table",
        "pivotAggregation": null,
        "pivotColumns": null,
        "xColumns": null,
        "yColumns": null
       },
       "removedWidgets": [],
       "schema": [
        {
         "metadata": "{}",
         "name": "path",
         "type": "\"string\""
        },
        {
         "metadata": "{}",
         "name": "name",
         "type": "\"string\""
        },
        {
         "metadata": "{}",
         "name": "size",
         "type": "\"long\""
        },
        {
         "metadata": "{}",
         "name": "modificationTime",
         "type": "\"long\""
        }
       ],
       "type": "table"
      }
     },
     "output_type": "display_data"
    }
   ],
   "source": [
    "display(dbutils.fs.ls(\"mnt/gold/customer_balance/\"))\n",
    "display(dbutils.fs.ls(\"mnt/silver/accounts/\"))\n"
   ]
  },
  {
   "cell_type": "code",
   "execution_count": 0,
   "metadata": {
    "application/vnd.databricks.v1+cell": {
     "cellMetadata": {
      "byteLimit": 2048000,
      "rowLimit": 10000
     },
     "inputWidgets": {},
     "nuid": "a8041a2d-f60f-4800-9485-7b4bbf400c35",
     "showTitle": false,
     "tableResultSettingsMap": {},
     "title": ""
    }
   },
   "outputs": [
    {
     "output_type": "display_data",
     "data": {
      "text/html": [
       "<style scoped>\n",
       "  .table-result-container {\n",
       "    max-height: 300px;\n",
       "    overflow: auto;\n",
       "  }\n",
       "  table, th, td {\n",
       "    border: 1px solid black;\n",
       "    border-collapse: collapse;\n",
       "  }\n",
       "  th, td {\n",
       "    padding: 5px;\n",
       "  }\n",
       "  th {\n",
       "    text-align: left;\n",
       "  }\n",
       "</style><div class='table-result-container'><table class='table-result'><thead style='background-color: white'><tr><th>path</th><th>name</th><th>size</th><th>modificationTime</th></tr></thead><tbody><tr><td>dbfs:/mnt/silver/accounts/_delta_log/</td><td>_delta_log/</td><td>0</td><td>1741398028000</td></tr><tr><td>dbfs:/mnt/silver/accounts/part-00000-7ff8df6c-3f27-4ac9-88c0-42a01d030672-c000.snappy.parquet</td><td>part-00000-7ff8df6c-3f27-4ac9-88c0-42a01d030672-c000.snappy.parquet</td><td>2773</td><td>1741398036000</td></tr></tbody></table></div>"
      ]
     },
     "metadata": {
      "application/vnd.databricks.v1+output": {
       "addedWidgets": {},
       "aggData": [],
       "aggError": "",
       "aggOverflow": false,
       "aggSchema": [],
       "aggSeriesLimitReached": false,
       "aggType": "",
       "arguments": {},
       "columnCustomDisplayInfos": {},
       "data": [
        [
         "dbfs:/mnt/silver/accounts/_delta_log/",
         "_delta_log/",
         0,
         1741398028000
        ],
        [
         "dbfs:/mnt/silver/accounts/part-00000-7ff8df6c-3f27-4ac9-88c0-42a01d030672-c000.snappy.parquet",
         "part-00000-7ff8df6c-3f27-4ac9-88c0-42a01d030672-c000.snappy.parquet",
         2773,
         1741398036000
        ]
       ],
       "datasetInfos": [],
       "dbfsResultPath": null,
       "isJsonSchema": true,
       "metadata": {},
       "overflow": false,
       "plotOptions": {
        "customPlotOptions": {},
        "displayType": "table",
        "pivotAggregation": null,
        "pivotColumns": null,
        "xColumns": null,
        "yColumns": null
       },
       "removedWidgets": [],
       "schema": [
        {
         "metadata": "{}",
         "name": "path",
         "type": "\"string\""
        },
        {
         "metadata": "{}",
         "name": "name",
         "type": "\"string\""
        },
        {
         "metadata": "{}",
         "name": "size",
         "type": "\"long\""
        },
        {
         "metadata": "{}",
         "name": "modificationTime",
         "type": "\"long\""
        }
       ],
       "type": "table"
      }
     },
     "output_type": "display_data"
    },
    {
     "output_type": "display_data",
     "data": {
      "text/html": [
       "<style scoped>\n",
       "  .table-result-container {\n",
       "    max-height: 300px;\n",
       "    overflow: auto;\n",
       "  }\n",
       "  table, th, td {\n",
       "    border: 1px solid black;\n",
       "    border-collapse: collapse;\n",
       "  }\n",
       "  th, td {\n",
       "    padding: 5px;\n",
       "  }\n",
       "  th {\n",
       "    text-align: left;\n",
       "  }\n",
       "</style><div class='table-result-container'><table class='table-result'><thead style='background-color: white'><tr><th>path</th><th>name</th><th>size</th><th>modificationTime</th></tr></thead><tbody><tr><td>dbfs:/mnt/gold/customer_balance/_delta_log/</td><td>_delta_log/</td><td>0</td><td>1741398153000</td></tr><tr><td>dbfs:/mnt/gold/customer_balance/part-00000-0a7277cf-69c0-424f-b856-601ae35c4d33-c000.snappy.parquet</td><td>part-00000-0a7277cf-69c0-424f-b856-601ae35c4d33-c000.snappy.parquet</td><td>1807</td><td>1741398157000</td></tr></tbody></table></div>"
      ]
     },
     "metadata": {
      "application/vnd.databricks.v1+output": {
       "addedWidgets": {},
       "aggData": [],
       "aggError": "",
       "aggOverflow": false,
       "aggSchema": [],
       "aggSeriesLimitReached": false,
       "aggType": "",
       "arguments": {},
       "columnCustomDisplayInfos": {},
       "data": [
        [
         "dbfs:/mnt/gold/customer_balance/_delta_log/",
         "_delta_log/",
         0,
         1741398153000
        ],
        [
         "dbfs:/mnt/gold/customer_balance/part-00000-0a7277cf-69c0-424f-b856-601ae35c4d33-c000.snappy.parquet",
         "part-00000-0a7277cf-69c0-424f-b856-601ae35c4d33-c000.snappy.parquet",
         1807,
         1741398157000
        ]
       ],
       "datasetInfos": [],
       "dbfsResultPath": null,
       "isJsonSchema": true,
       "metadata": {},
       "overflow": false,
       "plotOptions": {
        "customPlotOptions": {},
        "displayType": "table",
        "pivotAggregation": null,
        "pivotColumns": null,
        "xColumns": null,
        "yColumns": null
       },
       "removedWidgets": [],
       "schema": [
        {
         "metadata": "{}",
         "name": "path",
         "type": "\"string\""
        },
        {
         "metadata": "{}",
         "name": "name",
         "type": "\"string\""
        },
        {
         "metadata": "{}",
         "name": "size",
         "type": "\"long\""
        },
        {
         "metadata": "{}",
         "name": "modificationTime",
         "type": "\"long\""
        }
       ],
       "type": "table"
      }
     },
     "output_type": "display_data"
    }
   ],
   "source": [
    "display(dbutils.fs.ls(\"mnt/silver/accounts/\"))  # Check Silver\n",
    "display(dbutils.fs.ls(\"mnt/gold/customer_balance/\"))  # Check Gold\n"
   ]
  },
  {
   "cell_type": "code",
   "execution_count": 0,
   "metadata": {
    "application/vnd.databricks.v1+cell": {
     "cellMetadata": {
      "byteLimit": 2048000,
      "rowLimit": 10000
     },
     "inputWidgets": {},
     "nuid": "9a5bbab2-45c5-45af-9230-79a92f036daa",
     "showTitle": false,
     "tableResultSettingsMap": {},
     "title": ""
    }
   },
   "outputs": [
    {
     "output_type": "display_data",
     "data": {
      "text/html": [
       "<style scoped>\n",
       "  .table-result-container {\n",
       "    max-height: 300px;\n",
       "    overflow: auto;\n",
       "  }\n",
       "  table, th, td {\n",
       "    border: 1px solid black;\n",
       "    border-collapse: collapse;\n",
       "  }\n",
       "  th, td {\n",
       "    padding: 5px;\n",
       "  }\n",
       "  th {\n",
       "    text-align: left;\n",
       "  }\n",
       "</style><div class='table-result-container'><table class='table-result'><thead style='background-color: white'><tr><th>path</th><th>name</th><th>size</th><th>modificationTime</th></tr></thead><tbody><tr><td>dbfs:/mnt/gold/customer_balance/_delta_log/00000000000000000000.crc</td><td>00000000000000000000.crc</td><td>2791</td><td>1741398159000</td></tr><tr><td>dbfs:/mnt/gold/customer_balance/_delta_log/00000000000000000000.json</td><td>00000000000000000000.json</td><td>1712</td><td>1741398158000</td></tr><tr><td>dbfs:/mnt/gold/customer_balance/_delta_log/__tmp_path_dir/</td><td>__tmp_path_dir/</td><td>0</td><td>1741398158000</td></tr><tr><td>dbfs:/mnt/gold/customer_balance/_delta_log/_commits/</td><td>_commits/</td><td>0</td><td>1741398153000</td></tr></tbody></table></div>"
      ]
     },
     "metadata": {
      "application/vnd.databricks.v1+output": {
       "addedWidgets": {},
       "aggData": [],
       "aggError": "",
       "aggOverflow": false,
       "aggSchema": [],
       "aggSeriesLimitReached": false,
       "aggType": "",
       "arguments": {},
       "columnCustomDisplayInfos": {},
       "data": [
        [
         "dbfs:/mnt/gold/customer_balance/_delta_log/00000000000000000000.crc",
         "00000000000000000000.crc",
         2791,
         1741398159000
        ],
        [
         "dbfs:/mnt/gold/customer_balance/_delta_log/00000000000000000000.json",
         "00000000000000000000.json",
         1712,
         1741398158000
        ],
        [
         "dbfs:/mnt/gold/customer_balance/_delta_log/__tmp_path_dir/",
         "__tmp_path_dir/",
         0,
         1741398158000
        ],
        [
         "dbfs:/mnt/gold/customer_balance/_delta_log/_commits/",
         "_commits/",
         0,
         1741398153000
        ]
       ],
       "datasetInfos": [],
       "dbfsResultPath": null,
       "isJsonSchema": true,
       "metadata": {},
       "overflow": false,
       "plotOptions": {
        "customPlotOptions": {},
        "displayType": "table",
        "pivotAggregation": null,
        "pivotColumns": null,
        "xColumns": null,
        "yColumns": null
       },
       "removedWidgets": [],
       "schema": [
        {
         "metadata": "{}",
         "name": "path",
         "type": "\"string\""
        },
        {
         "metadata": "{}",
         "name": "name",
         "type": "\"string\""
        },
        {
         "metadata": "{}",
         "name": "size",
         "type": "\"long\""
        },
        {
         "metadata": "{}",
         "name": "modificationTime",
         "type": "\"long\""
        }
       ],
       "type": "table"
      }
     },
     "output_type": "display_data"
    }
   ],
   "source": [
    "display(dbutils.fs.ls(\"mnt/gold/customer_balance/_delta_log/\"))\n"
   ]
  },
  {
   "cell_type": "code",
   "execution_count": 0,
   "metadata": {
    "application/vnd.databricks.v1+cell": {
     "cellMetadata": {
      "byteLimit": 2048000,
      "rowLimit": 10000
     },
     "inputWidgets": {},
     "nuid": "9c7429ec-bc0c-40ee-9a5e-bea9b128657d",
     "showTitle": false,
     "tableResultSettingsMap": {},
     "title": ""
    }
   },
   "outputs": [
    {
     "output_type": "display_data",
     "data": {
      "text/html": [
       "<style scoped>\n",
       "  .table-result-container {\n",
       "    max-height: 300px;\n",
       "    overflow: auto;\n",
       "  }\n",
       "  table, th, td {\n",
       "    border: 1px solid black;\n",
       "    border-collapse: collapse;\n",
       "  }\n",
       "  th, td {\n",
       "    padding: 5px;\n",
       "  }\n",
       "  th {\n",
       "    text-align: left;\n",
       "  }\n",
       "</style><div class='table-result-container'><table class='table-result'><thead style='background-color: white'><tr><th>path</th><th>name</th><th>size</th><th>modificationTime</th></tr></thead><tbody><tr><td>dbfs:/mnt/gold/customer_balance/_delta_log/</td><td>_delta_log/</td><td>0</td><td>1741398153000</td></tr><tr><td>dbfs:/mnt/gold/customer_balance/part-00000-0a7277cf-69c0-424f-b856-601ae35c4d33-c000.snappy.parquet</td><td>part-00000-0a7277cf-69c0-424f-b856-601ae35c4d33-c000.snappy.parquet</td><td>1807</td><td>1741398157000</td></tr></tbody></table></div>"
      ]
     },
     "metadata": {
      "application/vnd.databricks.v1+output": {
       "addedWidgets": {},
       "aggData": [],
       "aggError": "",
       "aggOverflow": false,
       "aggSchema": [],
       "aggSeriesLimitReached": false,
       "aggType": "",
       "arguments": {},
       "columnCustomDisplayInfos": {},
       "data": [
        [
         "dbfs:/mnt/gold/customer_balance/_delta_log/",
         "_delta_log/",
         0,
         1741398153000
        ],
        [
         "dbfs:/mnt/gold/customer_balance/part-00000-0a7277cf-69c0-424f-b856-601ae35c4d33-c000.snappy.parquet",
         "part-00000-0a7277cf-69c0-424f-b856-601ae35c4d33-c000.snappy.parquet",
         1807,
         1741398157000
        ]
       ],
       "datasetInfos": [],
       "dbfsResultPath": null,
       "isJsonSchema": true,
       "metadata": {},
       "overflow": false,
       "plotOptions": {
        "customPlotOptions": {},
        "displayType": "table",
        "pivotAggregation": null,
        "pivotColumns": null,
        "xColumns": null,
        "yColumns": null
       },
       "removedWidgets": [],
       "schema": [
        {
         "metadata": "{}",
         "name": "path",
         "type": "\"string\""
        },
        {
         "metadata": "{}",
         "name": "name",
         "type": "\"string\""
        },
        {
         "metadata": "{}",
         "name": "size",
         "type": "\"long\""
        },
        {
         "metadata": "{}",
         "name": "modificationTime",
         "type": "\"long\""
        }
       ],
       "type": "table"
      }
     },
     "output_type": "display_data"
    }
   ],
   "source": [
    "display(dbutils.fs.ls(\"mnt/gold/customer_balance/\"))\n"
   ]
  },
  {
   "cell_type": "code",
   "execution_count": 0,
   "metadata": {
    "application/vnd.databricks.v1+cell": {
     "cellMetadata": {
      "byteLimit": 2048000,
      "rowLimit": 10000
     },
     "inputWidgets": {},
     "nuid": "68d1bc19-1f33-4ae1-9a97-afdde8c09853",
     "showTitle": false,
     "tableResultSettingsMap": {},
     "title": ""
    }
   },
   "outputs": [
    {
     "output_type": "display_data",
     "data": {
      "text/html": [
       "<style scoped>\n",
       "  .table-result-container {\n",
       "    max-height: 300px;\n",
       "    overflow: auto;\n",
       "  }\n",
       "  table, th, td {\n",
       "    border: 1px solid black;\n",
       "    border-collapse: collapse;\n",
       "  }\n",
       "  th, td {\n",
       "    padding: 5px;\n",
       "  }\n",
       "  th {\n",
       "    text-align: left;\n",
       "  }\n",
       "</style><div class='table-result-container'><table class='table-result'><thead style='background-color: white'><tr><th>customer_id</th><th>total_balance</th></tr></thead><tbody><tr><td>51</td><td>250.25</td></tr><tr><td>7</td><td>2900.0</td></tr><tr><td>15</td><td>3900.5</td></tr><tr><td>54</td><td>850.25</td></tr><tr><td>11</td><td>2600.0</td></tr><tr><td>69</td><td>550.25</td></tr><tr><td>29</td><td>1300.25</td></tr><tr><td>42</td><td>5500.5</td></tr><tr><td>87</td><td>650.25</td></tr><tr><td>73</td><td>625.75</td></tr><tr><td>64</td><td>3200.5</td></tr><tr><td>3</td><td>1100.75</td></tr><tr><td>30</td><td>8100.0</td></tr><tr><td>34</td><td>3000.25</td></tr><tr><td>59</td><td>600.25</td></tr><tr><td>8</td><td>6900.0</td></tr><tr><td>28</td><td>5700.0</td></tr><tr><td>22</td><td>7700.0</td></tr><tr><td>85</td><td>150.25</td></tr><tr><td>35</td><td>6300.5</td></tr><tr><td>16</td><td>5900.5</td></tr><tr><td>52</td><td>500.25</td></tr><tr><td>71</td><td>125.75</td></tr><tr><td>98</td><td>200.25</td></tr><tr><td>99</td><td>600.25</td></tr><tr><td>47</td><td>700.75</td></tr><tr><td>96</td><td>575.75</td></tr><tr><td>43</td><td>7500.5</td></tr><tr><td>5</td><td>1600.5</td></tr><tr><td>31</td><td>5100.5</td></tr><tr><td>18</td><td>1400.0</td></tr><tr><td>70</td><td>750.25</td></tr><tr><td>27</td><td>3700.0</td></tr><tr><td>61</td><td>675.75</td></tr><tr><td>75</td><td>475.75</td></tr><tr><td>17</td><td>7300.0</td></tr><tr><td>26</td><td>6700.5</td></tr><tr><td>78</td><td>1500.0</td></tr><tr><td>89</td><td>800.75</td></tr><tr><td>77</td><td>875.75</td></tr><tr><td>6</td><td>4900.0</td></tr><tr><td>90</td><td>950.25</td></tr><tr><td>60</td><td>925.75</td></tr><tr><td>68</td><td>300.25</td></tr><tr><td>19</td><td>4100.0</td></tr><tr><td>23</td><td>1200.5</td></tr><tr><td>41</td><td>3500.5</td></tr><tr><td>55</td><td>725.75</td></tr><tr><td>95</td><td>325.75</td></tr><tr><td>93</td><td>825.75</td></tr><tr><td>38</td><td>9100.5</td></tr><tr><td>40</td><td>8500.0</td></tr><tr><td>25</td><td>2800.5</td></tr><tr><td>44</td><td>9300.0</td></tr><tr><td>82</td><td>775.75</td></tr><tr><td>53</td><td>300.25</td></tr><tr><td>92</td><td>1800.5</td></tr><tr><td>86</td><td>400.25</td></tr><tr><td>58</td><td>75.25</td></tr><tr><td>81</td><td>2700.0</td></tr><tr><td>33</td><td>7100.5</td></tr><tr><td>48</td><td>9700.0</td></tr><tr><td>97</td><td>450.25</td></tr><tr><td>67</td><td>2200.0</td></tr><tr><td>84</td><td>525.75</td></tr><tr><td>79</td><td>900.25</td></tr><tr><td>9</td><td>3300.0</td></tr><tr><td>24</td><td>4700.5</td></tr><tr><td>32</td><td>3100.5</td></tr><tr><td>88</td><td>200.75</td></tr><tr><td>1</td><td>8900.0</td></tr><tr><td>20</td><td>6100.0</td></tr><tr><td>56</td><td>500.0</td></tr><tr><td>36</td><td>4300.5</td></tr><tr><td>10</td><td>5300.0</td></tr><tr><td>37</td><td>2400.5</td></tr><tr><td>49</td><td>9900.5</td></tr><tr><td>63</td><td>425.75</td></tr><tr><td>65</td><td>800.25</td></tr><tr><td>4</td><td>7900.5</td></tr><tr><td>39</td><td>9500.5</td></tr><tr><td>62</td><td>175.75</td></tr><tr><td>12</td><td>9000.75</td></tr><tr><td>83</td><td>275.75</td></tr><tr><td>13</td><td>4500.0</td></tr><tr><td>21</td><td>10700.5</td></tr><tr><td>14</td><td>900.25</td></tr><tr><td>66</td><td>100.25</td></tr><tr><td>91</td><td>700.25</td></tr><tr><td>94</td><td>50.75</td></tr><tr><td>72</td><td>375.75</td></tr><tr><td>74</td><td>225.75</td></tr><tr><td>76</td><td>400.75</td></tr><tr><td>2</td><td>8300.5</td></tr><tr><td>80</td><td>975.75</td></tr><tr><td>50</td><td>10100.0</td></tr><tr><td>57</td><td>350.25</td></tr><tr><td>45</td><td>1000.5</td></tr></tbody></table></div>"
      ]
     },
     "metadata": {
      "application/vnd.databricks.v1+output": {
       "addedWidgets": {},
       "aggData": [],
       "aggError": "",
       "aggOverflow": false,
       "aggSchema": [],
       "aggSeriesLimitReached": false,
       "aggType": "",
       "arguments": {},
       "columnCustomDisplayInfos": {},
       "data": [
        [
         "51",
         250.25
        ],
        [
         "7",
         2900.0
        ],
        [
         "15",
         3900.5
        ],
        [
         "54",
         850.25
        ],
        [
         "11",
         2600.0
        ],
        [
         "69",
         550.25
        ],
        [
         "29",
         1300.25
        ],
        [
         "42",
         5500.5
        ],
        [
         "87",
         650.25
        ],
        [
         "73",
         625.75
        ],
        [
         "64",
         3200.5
        ],
        [
         "3",
         1100.75
        ],
        [
         "30",
         8100.0
        ],
        [
         "34",
         3000.25
        ],
        [
         "59",
         600.25
        ],
        [
         "8",
         6900.0
        ],
        [
         "28",
         5700.0
        ],
        [
         "22",
         7700.0
        ],
        [
         "85",
         150.25
        ],
        [
         "35",
         6300.5
        ],
        [
         "16",
         5900.5
        ],
        [
         "52",
         500.25
        ],
        [
         "71",
         125.75
        ],
        [
         "98",
         200.25
        ],
        [
         "99",
         600.25
        ],
        [
         "47",
         700.75
        ],
        [
         "96",
         575.75
        ],
        [
         "43",
         7500.5
        ],
        [
         "5",
         1600.5
        ],
        [
         "31",
         5100.5
        ],
        [
         "18",
         1400.0
        ],
        [
         "70",
         750.25
        ],
        [
         "27",
         3700.0
        ],
        [
         "61",
         675.75
        ],
        [
         "75",
         475.75
        ],
        [
         "17",
         7300.0
        ],
        [
         "26",
         6700.5
        ],
        [
         "78",
         1500.0
        ],
        [
         "89",
         800.75
        ],
        [
         "77",
         875.75
        ],
        [
         "6",
         4900.0
        ],
        [
         "90",
         950.25
        ],
        [
         "60",
         925.75
        ],
        [
         "68",
         300.25
        ],
        [
         "19",
         4100.0
        ],
        [
         "23",
         1200.5
        ],
        [
         "41",
         3500.5
        ],
        [
         "55",
         725.75
        ],
        [
         "95",
         325.75
        ],
        [
         "93",
         825.75
        ],
        [
         "38",
         9100.5
        ],
        [
         "40",
         8500.0
        ],
        [
         "25",
         2800.5
        ],
        [
         "44",
         9300.0
        ],
        [
         "82",
         775.75
        ],
        [
         "53",
         300.25
        ],
        [
         "92",
         1800.5
        ],
        [
         "86",
         400.25
        ],
        [
         "58",
         75.25
        ],
        [
         "81",
         2700.0
        ],
        [
         "33",
         7100.5
        ],
        [
         "48",
         9700.0
        ],
        [
         "97",
         450.25
        ],
        [
         "67",
         2200.0
        ],
        [
         "84",
         525.75
        ],
        [
         "79",
         900.25
        ],
        [
         "9",
         3300.0
        ],
        [
         "24",
         4700.5
        ],
        [
         "32",
         3100.5
        ],
        [
         "88",
         200.75
        ],
        [
         "1",
         8900.0
        ],
        [
         "20",
         6100.0
        ],
        [
         "56",
         500.0
        ],
        [
         "36",
         4300.5
        ],
        [
         "10",
         5300.0
        ],
        [
         "37",
         2400.5
        ],
        [
         "49",
         9900.5
        ],
        [
         "63",
         425.75
        ],
        [
         "65",
         800.25
        ],
        [
         "4",
         7900.5
        ],
        [
         "39",
         9500.5
        ],
        [
         "62",
         175.75
        ],
        [
         "12",
         9000.75
        ],
        [
         "83",
         275.75
        ],
        [
         "13",
         4500.0
        ],
        [
         "21",
         10700.5
        ],
        [
         "14",
         900.25
        ],
        [
         "66",
         100.25
        ],
        [
         "91",
         700.25
        ],
        [
         "94",
         50.75
        ],
        [
         "72",
         375.75
        ],
        [
         "74",
         225.75
        ],
        [
         "76",
         400.75
        ],
        [
         "2",
         8300.5
        ],
        [
         "80",
         975.75
        ],
        [
         "50",
         10100.0
        ],
        [
         "57",
         350.25
        ],
        [
         "45",
         1000.5
        ]
       ],
       "datasetInfos": [],
       "dbfsResultPath": null,
       "isJsonSchema": true,
       "metadata": {},
       "overflow": false,
       "plotOptions": {
        "customPlotOptions": {},
        "displayType": "table",
        "pivotAggregation": null,
        "pivotColumns": null,
        "xColumns": null,
        "yColumns": null
       },
       "removedWidgets": [],
       "schema": [
        {
         "metadata": "{}",
         "name": "customer_id",
         "type": "\"string\""
        },
        {
         "metadata": "{}",
         "name": "total_balance",
         "type": "\"double\""
        }
       ],
       "type": "table"
      }
     },
     "output_type": "display_data"
    }
   ],
   "source": [
    "df = spark.read.format(\"delta\").load(\"dbfs:/mnt/gold/customer_balance/\")\n",
    "display(df)\n"
   ]
  },
  {
   "cell_type": "code",
   "execution_count": 0,
   "metadata": {
    "application/vnd.databricks.v1+cell": {
     "cellMetadata": {
      "byteLimit": 2048000,
      "rowLimit": 10000
     },
     "inputWidgets": {},
     "nuid": "cdbe0127-d5ba-4a23-a30a-de074ff47967",
     "showTitle": false,
     "tableResultSettingsMap": {},
     "title": ""
    }
   },
   "outputs": [
    {
     "output_type": "display_data",
     "data": {
      "text/html": [
       "<style scoped>\n",
       "  .table-result-container {\n",
       "    max-height: 300px;\n",
       "    overflow: auto;\n",
       "  }\n",
       "  table, th, td {\n",
       "    border: 1px solid black;\n",
       "    border-collapse: collapse;\n",
       "  }\n",
       "  th, td {\n",
       "    padding: 5px;\n",
       "  }\n",
       "  th {\n",
       "    text-align: left;\n",
       "  }\n",
       "</style><div class='table-result-container'><table class='table-result'><thead style='background-color: white'><tr><th>mountPoint</th><th>source</th><th>encryptionType</th></tr></thead><tbody><tr><td>/databricks-datasets</td><td>databricks-datasets</td><td></td></tr><tr><td>/Volumes</td><td>UnityCatalogVolumes</td><td></td></tr><tr><td>/databricks/mlflow-tracking</td><td>databricks/mlflow-tracking</td><td></td></tr><tr><td>/databricks-results</td><td>databricks-results</td><td></td></tr><tr><td>/databricks/mlflow-registry</td><td>databricks/mlflow-registry</td><td></td></tr><tr><td>/mnt/bronze</td><td>wasbs://bronze@bootcstorage.blob.core.windows.net/</td><td></td></tr><tr><td>/Volume</td><td>DbfsReserved</td><td></td></tr><tr><td>/volumes</td><td>DbfsReserved</td><td></td></tr><tr><td>/</td><td>DatabricksRoot</td><td></td></tr><tr><td>/volume</td><td>DbfsReserved</td><td></td></tr></tbody></table></div>"
      ]
     },
     "metadata": {
      "application/vnd.databricks.v1+output": {
       "addedWidgets": {},
       "aggData": [],
       "aggError": "",
       "aggOverflow": false,
       "aggSchema": [],
       "aggSeriesLimitReached": false,
       "aggType": "",
       "arguments": {},
       "columnCustomDisplayInfos": {},
       "data": [
        [
         "/databricks-datasets",
         "databricks-datasets",
         ""
        ],
        [
         "/Volumes",
         "UnityCatalogVolumes",
         ""
        ],
        [
         "/databricks/mlflow-tracking",
         "databricks/mlflow-tracking",
         ""
        ],
        [
         "/databricks-results",
         "databricks-results",
         ""
        ],
        [
         "/databricks/mlflow-registry",
         "databricks/mlflow-registry",
         ""
        ],
        [
         "/mnt/bronze",
         "wasbs://bronze@bootcstorage.blob.core.windows.net/",
         ""
        ],
        [
         "/Volume",
         "DbfsReserved",
         ""
        ],
        [
         "/volumes",
         "DbfsReserved",
         ""
        ],
        [
         "/",
         "DatabricksRoot",
         ""
        ],
        [
         "/volume",
         "DbfsReserved",
         ""
        ]
       ],
       "datasetInfos": [],
       "dbfsResultPath": null,
       "isJsonSchema": true,
       "metadata": {},
       "overflow": false,
       "plotOptions": {
        "customPlotOptions": {},
        "displayType": "table",
        "pivotAggregation": null,
        "pivotColumns": null,
        "xColumns": null,
        "yColumns": null
       },
       "removedWidgets": [],
       "schema": [
        {
         "metadata": "{}",
         "name": "mountPoint",
         "type": "\"string\""
        },
        {
         "metadata": "{}",
         "name": "source",
         "type": "\"string\""
        },
        {
         "metadata": "{}",
         "name": "encryptionType",
         "type": "\"string\""
        }
       ],
       "type": "table"
      }
     },
     "output_type": "display_data"
    }
   ],
   "source": [
    "display(dbutils.fs.mounts())\n"
   ]
  },
  {
   "cell_type": "code",
   "execution_count": 0,
   "metadata": {
    "application/vnd.databricks.v1+cell": {
     "cellMetadata": {
      "byteLimit": 2048000,
      "rowLimit": 10000
     },
     "inputWidgets": {},
     "nuid": "c9f785a1-7e1e-41b2-8fce-0d44aa211988",
     "showTitle": false,
     "tableResultSettingsMap": {},
     "title": ""
    }
   },
   "outputs": [
    {
     "output_type": "stream",
     "name": "stdout",
     "output_type": "stream",
     "text": [
      "Wrote 19 bytes.\n"
     ]
    },
    {
     "output_type": "execute_result",
     "data": {
      "text/plain": [
       "True"
      ]
     },
     "execution_count": 17,
     "metadata": {},
     "output_type": "execute_result"
    }
   ],
   "source": [
    "dbutils.fs.put(\"dbfs:/mnt/gold/test.txt\", \"this is a test file\", True)\n"
   ]
  },
  {
   "cell_type": "code",
   "execution_count": 0,
   "metadata": {
    "application/vnd.databricks.v1+cell": {
     "cellMetadata": {
      "byteLimit": 2048000,
      "rowLimit": 10000
     },
     "inputWidgets": {},
     "nuid": "0df373a2-2afd-4982-a185-bc567ddcfa2d",
     "showTitle": false,
     "tableResultSettingsMap": {},
     "title": ""
    }
   },
   "outputs": [
    {
     "output_type": "display_data",
     "data": {
      "text/html": [
       "<style scoped>\n",
       "  .table-result-container {\n",
       "    max-height: 300px;\n",
       "    overflow: auto;\n",
       "  }\n",
       "  table, th, td {\n",
       "    border: 1px solid black;\n",
       "    border-collapse: collapse;\n",
       "  }\n",
       "  th, td {\n",
       "    padding: 5px;\n",
       "  }\n",
       "  th {\n",
       "    text-align: left;\n",
       "  }\n",
       "</style><div class='table-result-container'><table class='table-result'><thead style='background-color: white'><tr><th>path</th><th>name</th><th>size</th><th>modificationTime</th></tr></thead><tbody><tr><td>dbfs:/mnt/gold/account_transactions/</td><td>account_transactions/</td><td>0</td><td>1741398163000</td></tr><tr><td>dbfs:/mnt/gold/customer_balance/</td><td>customer_balance/</td><td>0</td><td>1741398153000</td></tr><tr><td>dbfs:/mnt/gold/customer_loans/</td><td>customer_loans/</td><td>0</td><td>1741398160000</td></tr><tr><td>dbfs:/mnt/gold/test.txt</td><td>test.txt</td><td>19</td><td>1741404315000</td></tr></tbody></table></div>"
      ]
     },
     "metadata": {
      "application/vnd.databricks.v1+output": {
       "addedWidgets": {},
       "aggData": [],
       "aggError": "",
       "aggOverflow": false,
       "aggSchema": [],
       "aggSeriesLimitReached": false,
       "aggType": "",
       "arguments": {},
       "columnCustomDisplayInfos": {},
       "data": [
        [
         "dbfs:/mnt/gold/account_transactions/",
         "account_transactions/",
         0,
         1741398163000
        ],
        [
         "dbfs:/mnt/gold/customer_balance/",
         "customer_balance/",
         0,
         1741398153000
        ],
        [
         "dbfs:/mnt/gold/customer_loans/",
         "customer_loans/",
         0,
         1741398160000
        ],
        [
         "dbfs:/mnt/gold/test.txt",
         "test.txt",
         19,
         1741404315000
        ]
       ],
       "datasetInfos": [],
       "dbfsResultPath": null,
       "isJsonSchema": true,
       "metadata": {},
       "overflow": false,
       "plotOptions": {
        "customPlotOptions": {},
        "displayType": "table",
        "pivotAggregation": null,
        "pivotColumns": null,
        "xColumns": null,
        "yColumns": null
       },
       "removedWidgets": [],
       "schema": [
        {
         "metadata": "{}",
         "name": "path",
         "type": "\"string\""
        },
        {
         "metadata": "{}",
         "name": "name",
         "type": "\"string\""
        },
        {
         "metadata": "{}",
         "name": "size",
         "type": "\"long\""
        },
        {
         "metadata": "{}",
         "name": "modificationTime",
         "type": "\"long\""
        }
       ],
       "type": "table"
      }
     },
     "output_type": "display_data"
    }
   ],
   "source": [
    "display(dbutils.fs.ls(\"dbfs:/mnt/gold/\"))\n"
   ]
  },
  {
   "cell_type": "code",
   "execution_count": 0,
   "metadata": {
    "application/vnd.databricks.v1+cell": {
     "cellMetadata": {
      "byteLimit": 2048000,
      "rowLimit": 10000
     },
     "inputWidgets": {},
     "nuid": "067c0cfd-080b-48a7-b998-a7ee65029524",
     "showTitle": false,
     "tableResultSettingsMap": {},
     "title": ""
    }
   },
   "outputs": [],
   "source": [
    "df.write.format(\"parquet\").mode(\"overwrite\").save(\"dbfs:/mnt/gold/customer_balance_parquet/\")\n"
   ]
  },
  {
   "cell_type": "code",
   "execution_count": 0,
   "metadata": {
    "application/vnd.databricks.v1+cell": {
     "cellMetadata": {
      "byteLimit": 2048000,
      "rowLimit": 10000
     },
     "inputWidgets": {},
     "nuid": "67d1f505-ba96-476a-86dd-6845e9edc409",
     "showTitle": false,
     "tableResultSettingsMap": {},
     "title": ""
    }
   },
   "outputs": [
    {
     "output_type": "execute_result",
     "data": {
      "text/plain": [
       "True"
      ]
     },
     "execution_count": 22,
     "metadata": {},
     "output_type": "execute_result"
    }
   ],
   "source": [
    "storage_account_name = \"bootcstorage\"\n",
    "container_name = \"gold\"\n",
    "mnt_name = \"/mnt/gold\"\n",
    "storage_account_key = \"is4pvreV+HFvC6adOilAI1X6eH+DEliTAh4LEN1+YuQnvl+wN4Ixg610WhPKe8xse+P9Tvzaw4Pi+AStnLbYXQ==\"  # Paste your key here\n",
    "\n",
    "dbutils.fs.mount(\n",
    "  source=f\"wasbs://{container_name}@{storage_account_name}.blob.core.windows.net/\",\n",
    "  mount_point=mnt_name,\n",
    "  extra_configs={f\"fs.azure.account.key.{storage_account_name}.blob.core.windows.net\": storage_account_key}\n",
    ")\n"
   ]
  },
  {
   "cell_type": "code",
   "execution_count": 0,
   "metadata": {
    "application/vnd.databricks.v1+cell": {
     "cellMetadata": {
      "byteLimit": 2048000,
      "rowLimit": 10000
     },
     "inputWidgets": {},
     "nuid": "7428b89e-aedd-4815-9fa2-c05a24bd6018",
     "showTitle": false,
     "tableResultSettingsMap": {},
     "title": ""
    }
   },
   "outputs": [
    {
     "output_type": "display_data",
     "data": {
      "text/html": [
       "<style scoped>\n",
       "  .table-result-container {\n",
       "    max-height: 300px;\n",
       "    overflow: auto;\n",
       "  }\n",
       "  table, th, td {\n",
       "    border: 1px solid black;\n",
       "    border-collapse: collapse;\n",
       "  }\n",
       "  th, td {\n",
       "    padding: 5px;\n",
       "  }\n",
       "  th {\n",
       "    text-align: left;\n",
       "  }\n",
       "</style><div class='table-result-container'><table class='table-result'><thead style='background-color: white'><tr><th>mountPoint</th><th>source</th><th>encryptionType</th></tr></thead><tbody><tr><td>/databricks-datasets</td><td>databricks-datasets</td><td></td></tr><tr><td>/mnt/gold</td><td>wasbs://gold@bootcstorage.blob.core.windows.net/</td><td></td></tr><tr><td>/Volumes</td><td>UnityCatalogVolumes</td><td></td></tr><tr><td>/databricks/mlflow-tracking</td><td>databricks/mlflow-tracking</td><td></td></tr><tr><td>/databricks-results</td><td>databricks-results</td><td></td></tr><tr><td>/databricks/mlflow-registry</td><td>databricks/mlflow-registry</td><td></td></tr><tr><td>/mnt/bronze</td><td>wasbs://bronze@bootcstorage.blob.core.windows.net/</td><td></td></tr><tr><td>/Volume</td><td>DbfsReserved</td><td></td></tr><tr><td>/volumes</td><td>DbfsReserved</td><td></td></tr><tr><td>/</td><td>DatabricksRoot</td><td></td></tr><tr><td>/volume</td><td>DbfsReserved</td><td></td></tr></tbody></table></div>"
      ]
     },
     "metadata": {
      "application/vnd.databricks.v1+output": {
       "addedWidgets": {},
       "aggData": [],
       "aggError": "",
       "aggOverflow": false,
       "aggSchema": [],
       "aggSeriesLimitReached": false,
       "aggType": "",
       "arguments": {},
       "columnCustomDisplayInfos": {},
       "data": [
        [
         "/databricks-datasets",
         "databricks-datasets",
         ""
        ],
        [
         "/mnt/gold",
         "wasbs://gold@bootcstorage.blob.core.windows.net/",
         ""
        ],
        [
         "/Volumes",
         "UnityCatalogVolumes",
         ""
        ],
        [
         "/databricks/mlflow-tracking",
         "databricks/mlflow-tracking",
         ""
        ],
        [
         "/databricks-results",
         "databricks-results",
         ""
        ],
        [
         "/databricks/mlflow-registry",
         "databricks/mlflow-registry",
         ""
        ],
        [
         "/mnt/bronze",
         "wasbs://bronze@bootcstorage.blob.core.windows.net/",
         ""
        ],
        [
         "/Volume",
         "DbfsReserved",
         ""
        ],
        [
         "/volumes",
         "DbfsReserved",
         ""
        ],
        [
         "/",
         "DatabricksRoot",
         ""
        ],
        [
         "/volume",
         "DbfsReserved",
         ""
        ]
       ],
       "datasetInfos": [],
       "dbfsResultPath": null,
       "isJsonSchema": true,
       "metadata": {},
       "overflow": false,
       "plotOptions": {
        "customPlotOptions": {},
        "displayType": "table",
        "pivotAggregation": null,
        "pivotColumns": null,
        "xColumns": null,
        "yColumns": null
       },
       "removedWidgets": [],
       "schema": [
        {
         "metadata": "{}",
         "name": "mountPoint",
         "type": "\"string\""
        },
        {
         "metadata": "{}",
         "name": "source",
         "type": "\"string\""
        },
        {
         "metadata": "{}",
         "name": "encryptionType",
         "type": "\"string\""
        }
       ],
       "type": "table"
      }
     },
     "output_type": "display_data"
    }
   ],
   "source": [
    "display(dbutils.fs.mounts())\n"
   ]
  }
 ],
 "metadata": {
  "application/vnd.databricks.v1+notebook": {
   "computePreferences": null,
   "dashboards": [],
   "environmentMetadata": {
    "base_environment": "",
    "environment_version": "2"
   },
   "language": "python",
   "notebookMetadata": {
    "pythonIndentUnit": 4
   },
   "notebookName": "Untitled Notebook 2025-03-07 20:34:45",
   "widgets": {}
  },
  "language_info": {
   "name": "python"
  }
 },
 "nbformat": 4,
 "nbformat_minor": 0
}